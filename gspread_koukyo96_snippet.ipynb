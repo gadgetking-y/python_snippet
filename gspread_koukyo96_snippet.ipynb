{
 "cells": [
  {
   "cell_type": "markdown",
   "metadata": {},
   "source": [
    "# 電気料金とガス料金をgoogle spreadsheetに入力する\n",
    "\n",
    "各種公共料金をGoogle Spreadsheetに入力しているのだが、どうもズボラなため数カ月分に渡って入力を忘れてしまう事がある。そのたびに明細を見て手入力していたのだがどうもそれが面倒なのでcsvデータをダウンロードして勝手に入力してしまえと思いついてそうしてみた。\n",
    "\n",
    "## 1. 電気のデータを読み込む"
   ]
  },
  {
   "cell_type": "markdown",
   "metadata": {},
   "source": [
    "まずは電気料金のcsvを読み込んで年月毎のdictに保持する。\n",
    "\n",
    "電気料金のcsvはでんき家計簿に登録するとダウンロードが出来るのでそれを用いる。"
   ]
  },
  {
   "cell_type": "code",
   "execution_count": 21,
   "metadata": {},
   "outputs": [
    {
     "name": "stdout",
     "output_type": "stream",
     "text": [
      "['契約種別', '事業所コード', 'お客さま番号', '年月', '使用日数(日間)', '請求金額(円)', '使用量総計', '使用量内訳(昼間/平日)', '使用量内訳(朝晩/ピーク)', '使用量内訳(夜間/土日)']\n",
      "['従量電灯B', '123', '12345-67890-1-00', '2018/12', '30', '8918', '306', '', '', '']\n",
      "['従量電灯B', '123', '12345-67890-1-00', '2019/01', '33', '12881', '426', '', '', '']\n",
      "['従量電灯B', '123', '12345-67890-1-00', '2019/02', '29', '12553', '412', '', '', '']\n",
      "['従量電灯B', '123', '12345-67890-1-00', '2019/03', '28', '9064', '304', '', '', '']\n",
      "['従量電灯B', '123', '12345-67890-1-00', '2019/04', '30', '7592', '255', '', '', '']\n"
     ]
    }
   ],
   "source": [
    "import csv\n",
    "\n",
    "FILEDIR=\"/Users/makoto-y/Downloads/\"\n",
    "file='ELECT_USAGE_20201109223152.csv'\n",
    "\n",
    "year_month_dict = {} \n",
    "\n",
    "with open(FILEDIR+file, encoding=\"shift_jis\") as f:\n",
    "    reader = csv.reader(f)\n",
    "    for i, row in enumerate(reader):\n",
    "        row = [s.replace('714', '123') for s in row]\n",
    "        row = [s.replace('33094-40811-1-08', '12345-67890-1-00') for s in row]\n",
    "        print(row)\n",
    "        if i == 5:\n",
    "            break"
   ]
  },
  {
   "cell_type": "code",
   "execution_count": null,
   "metadata": {},
   "outputs": [],
   "source": []
  },
  {
   "cell_type": "code",
   "execution_count": 25,
   "metadata": {},
   "outputs": [
    {
     "name": "stdout",
     "output_type": "stream",
     "text": [
      "{'2018/12': {'電気代': '8918', '電気(KWh)': '306'}, '2019/01': {'電気代': '12881', '電気(KWh)': '426'}, '2019/02': {'電気代': '12553', '電気(KWh)': '412'}, '2019/03': {'電気代': '9064', '電気(KWh)': '304'}, '2019/04': {'電気代': '7592', '電気(KWh)': '255'}, '2019/05': {'電気代': '7641', '電気(KWh)': '259'}, '2019/06': {'電気代': '6598', '電気(KWh)': '224'}, '2019/07': {'電気代': '7015', '電気(KWh)': '240'}, '2019/08': {'電気代': '9851', '電気(KWh)': '339'}, '2019/09': {'電気代': '12141', '電気(KWh)': '415'}, '2019/10': {'電気代': '8520', '電気(KWh)': '301'}, '2019/11': {'電気代': '8066', '電気(KWh)': '280'}, '2019/12': {'電気代': '7510', '電気(KWh)': '261'}, '2020/01': {'電気代': '11897', '電気(KWh)': '406'}, '2020/02': {'電気代': '7300', '電気(KWh)': '255'}, '2020/03': {'電気代': '7012', '電気(KWh)': '244'}, '2020/04': {'電気代': '7925', '電気(KWh)': '277'}, '2020/05': {'電気代': '7398', '電気(KWh)': '257'}, '2020/06': {'電気代': '6806', '電気(KWh)': '236'}, '2020/07': {'電気代': '7836', '電気(KWh)': '277'}, '2020/08': {'電気代': '9685', '電気(KWh)': '344'}, '2020/09': {'電気代': '13113', '電気(KWh)': '466'}, '2020/10': {'電気代': '9257', '電気(KWh)': '345'}, '2020/11': {'電気代': '5911', '電気(KWh)': '224'}}\n"
     ]
    }
   ],
   "source": [
    "import csv\n",
    "\n",
    "def electlicity():\n",
    "    \"\"\"\n",
    "    電気のデータを辞書で返却\n",
    "    \"\"\"\n",
    " \n",
    "    FILEDIR=\"/path/to/target/\"\n",
    "    file='ELECT_USAGE_20201109223152.csv'\n",
    " \n",
    "    year_month_dict = {} \n",
    " \n",
    "    with open(FILEDIR+file, encoding=\"shift_jis\") as f:\n",
    "        reader = csv.reader(f)\n",
    "        for row in reader:\n",
    "            if row[0] != \"従量電灯B\":\n",
    "                continue\n",
    "            year_month_dict[row[3]] = {'電気代':row[5], '電気(KWh)':row[6]}\n",
    "    return year_month_dict\n",
    "    \n",
    "print(electlicity())"
   ]
  },
  {
   "cell_type": "markdown",
   "metadata": {},
   "source": [
    "## 2. ガスのデータを読み込む\n",
    "\n",
    "同じくガス料金のcsvデータを年月毎にdictに保持する"
   ]
  },
  {
   "cell_type": "code",
   "execution_count": 22,
   "metadata": {},
   "outputs": [
    {
     "name": "stdout",
     "output_type": "stream",
     "text": [
      "['# ガス月別料金・使用量']\n",
      "['お客さま番号', '契約種別', '請求年月日', '使用期間開始日', '使用期間終了日', '料金', '使用量']\n",
      "['1234-567-8901', '一般契約', '2018/12/13', '2018/11/13', '2018/12/13', '9876', '68']\n",
      "['1234-567-8901', '一般契約', '2019/1/16', '2018/12/14', '2019/1/16', '16932', '121']\n",
      "['1234-567-8901', '一般契約', '2019/2/12', '2019/1/17', '2019/2/12', '15168', '106']\n",
      "['1234-567-8901', '一般契約', '2019/3/12', '2019/2/13', '2019/3/12', '15668', '109']\n"
     ]
    }
   ],
   "source": [
    "\n",
    "FILEDIR=\"/Users/makoto-y/Downloads/\"\n",
    "file='ChargeAmount_20201115093719.csv'  # ガス代\n",
    "\n",
    "year_month_dict = {}\n",
    "with open(FILEDIR+file, encoding=\"shift_jis\") as f:\n",
    "    reader = csv.reader(f)\n",
    "    for i, row in enumerate(reader):\n",
    "        row = [s.replace('1780-347-0032', '1234-567-8901') for s in row]\n",
    "        print(row)\n",
    "        if i == 5:\n",
    "            break\n"
   ]
  },
  {
   "cell_type": "code",
   "execution_count": 26,
   "metadata": {},
   "outputs": [
    {
     "name": "stdout",
     "output_type": "stream",
     "text": [
      "{'2018/12': {'ガス代': '9876', 'ガス(m*3)': '68'}, '2019/01': {'ガス代': '16932', 'ガス(m*3)': '121'}, '2019/02': {'ガス代': '15168', 'ガス(m*3)': '106'}, '2019/03': {'ガス代': '15668', 'ガス(m*3)': '109'}, '2019/04': {'ガス代': '12579', 'ガス(m*3)': '86'}, '2019/05': {'ガス代': '9190', 'ガス(m*3)': '61'}, '2019/06': {'ガス代': '4480', 'ガス(m*3)': '26'}, '2019/07': {'ガス代': '4824', 'ガス(m*3)': '29'}, '2019/08': {'ガス代': '3858', 'ガス(m*3)': '22'}, '2019/09': {'ガス代': '2428', 'ガス(m*3)': '12'}, '2019/10': {'ガス代': '3116', 'ガス(m*3)': '17'}, '2019/11': {'ガス代': '6028', 'ガス(m*3)': '39'}, '2019/12': {'ガス代': '9969', 'ガス(m*3)': '70'}, '2020/01': {'ガス代': '14458', 'ガス(m*3)': '106'}, '2020/02': {'ガス代': '13514', 'ガス(m*3)': '99'}, '2020/03': {'ガス代': '11185', 'ガス(m*3)': '80'}, '2020/04': {'ガス代': '10692', 'ガス(m*3)': '76'}, '2020/05': {'ガス代': '7142', 'ガス(m*3)': '48'}, '2020/06': {'ガス代': '3716', 'ガス(m*3)': '21'}, '2020/07': {'ガス代': '3161', 'ガス(m*3)': '17'}, '2020/08': {'ガス代': '3014', 'ガス(m*3)': '16'}, '2020/09': {'ガス代': '2424', 'ガス(m*3)': '12'}, '2020/10': {'ガス代': '3580', 'ガス(m*3)': '21'}, '2020/11': {'ガス代': '4504', 'ガス(m*3)': '30'}}\n"
     ]
    }
   ],
   "source": [
    "def gas():\n",
    "    \"\"\"\n",
    "    ガスのデータを辞書で返却\n",
    "    \"\"\"\n",
    "\n",
    "    FILEDIR=\"/path/to/target/\"\n",
    "    file='ChargeAmount_20201115093719.csv'  # ガス代\n",
    "\n",
    "    year_month_dict = {}\n",
    "    with open(FILEDIR+file, encoding=\"shift_jis\") as f:\n",
    "        reader = csv.reader(f)\n",
    "        for row in reader:\n",
    "            if row[0] != \"1234-567-8901\":\n",
    "                continue\n",
    "            tmp = row[2].split('/')\n",
    "            year_month = f'{tmp[0]}/{tmp[1].zfill(2)}'\n",
    "            year_month_dict[year_month] = {'ガス代':row[5], 'ガス(m*3)':row[6]}\n",
    "\n",
    "    return year_month_dict\n",
    "\n",
    "print(gas())"
   ]
  },
  {
   "cell_type": "markdown",
   "metadata": {},
   "source": [
    "## 3. 電気とガスのデータをマージする\n",
    "\n",
    "次に電気料金とガス料金のdict型のデータを年月でマージしたdictを生成する"
   ]
  },
  {
   "cell_type": "code",
   "execution_count": 27,
   "metadata": {},
   "outputs": [
    {
     "name": "stdout",
     "output_type": "stream",
     "text": [
      "{'2018/12': {'電気代': '8918', '電気(KWh)': '306', 'ガス代': '9876', 'ガス(m*3)': '68'}, '2019/01': {'電気代': '12881', '電気(KWh)': '426', 'ガス代': '16932', 'ガス(m*3)': '121'}, '2019/02': {'電気代': '12553', '電気(KWh)': '412', 'ガス代': '15168', 'ガス(m*3)': '106'}, '2019/03': {'電気代': '9064', '電気(KWh)': '304', 'ガス代': '15668', 'ガス(m*3)': '109'}, '2019/04': {'電気代': '7592', '電気(KWh)': '255', 'ガス代': '12579', 'ガス(m*3)': '86'}, '2019/05': {'電気代': '7641', '電気(KWh)': '259', 'ガス代': '9190', 'ガス(m*3)': '61'}, '2019/06': {'電気代': '6598', '電気(KWh)': '224', 'ガス代': '4480', 'ガス(m*3)': '26'}, '2019/07': {'電気代': '7015', '電気(KWh)': '240', 'ガス代': '4824', 'ガス(m*3)': '29'}, '2019/08': {'電気代': '9851', '電気(KWh)': '339', 'ガス代': '3858', 'ガス(m*3)': '22'}, '2019/09': {'電気代': '12141', '電気(KWh)': '415', 'ガス代': '2428', 'ガス(m*3)': '12'}, '2019/10': {'電気代': '8520', '電気(KWh)': '301', 'ガス代': '3116', 'ガス(m*3)': '17'}, '2019/11': {'電気代': '8066', '電気(KWh)': '280', 'ガス代': '6028', 'ガス(m*3)': '39'}, '2019/12': {'電気代': '7510', '電気(KWh)': '261', 'ガス代': '9969', 'ガス(m*3)': '70'}, '2020/01': {'電気代': '11897', '電気(KWh)': '406', 'ガス代': '14458', 'ガス(m*3)': '106'}, '2020/02': {'電気代': '7300', '電気(KWh)': '255', 'ガス代': '13514', 'ガス(m*3)': '99'}, '2020/03': {'電気代': '7012', '電気(KWh)': '244', 'ガス代': '11185', 'ガス(m*3)': '80'}, '2020/04': {'電気代': '7925', '電気(KWh)': '277', 'ガス代': '10692', 'ガス(m*3)': '76'}, '2020/05': {'電気代': '7398', '電気(KWh)': '257', 'ガス代': '7142', 'ガス(m*3)': '48'}, '2020/06': {'電気代': '6806', '電気(KWh)': '236', 'ガス代': '3716', 'ガス(m*3)': '21'}, '2020/07': {'電気代': '7836', '電気(KWh)': '277', 'ガス代': '3161', 'ガス(m*3)': '17'}, '2020/08': {'電気代': '9685', '電気(KWh)': '344', 'ガス代': '3014', 'ガス(m*3)': '16'}, '2020/09': {'電気代': '13113', '電気(KWh)': '466', 'ガス代': '2424', 'ガス(m*3)': '12'}, '2020/10': {'電気代': '9257', '電気(KWh)': '345', 'ガス代': '3580', 'ガス(m*3)': '21'}, '2020/11': {'電気代': '5911', '電気(KWh)': '224', 'ガス代': '4504', 'ガス(m*3)': '30'}}\n"
     ]
    }
   ],
   "source": [
    "def get_data_dict():\n",
    "    \"\"\"\n",
    "    CSVから作成したデータをそれぞれ取得してマージする\n",
    "    \"\"\"\n",
    "\n",
    "    data_dict = {}\n",
    "\n",
    "    elec_dict = electlicity()\n",
    "    gas_dict = gas()\n",
    "\n",
    "    data_dict = elec_dict\n",
    "    for key, value in elec_dict.items():\n",
    "        data_dict[key].update(gas_dict[key])\n",
    "\n",
    "    return data_dict\n",
    "\n",
    "print(get_data_dict())\n"
   ]
  },
  {
   "cell_type": "markdown",
   "metadata": {},
   "source": [
    "## 4. Google Spreadsheetにアクセスする\n",
    "\n",
    "Google Spreadsheetへアクセスするためにはアクセス権の設定等をいろいろと\n",
    "やる必要がある。\n",
    "\n",
    "やり方はいろんなところにあるので今回は\n",
    "https://tanuhack.com/operate-spreadsheet/\n",
    "を参考にさせて貰った。\n"
   ]
  },
  {
   "cell_type": "code",
   "execution_count": 28,
   "metadata": {},
   "outputs": [],
   "source": [
    "import gspread\n",
    "from oauth2client.service_account import ServiceAccountCredentials\n",
    "\n",
    "TARGET_WORKSHEET='python_test'\n",
    "CREDENTIAL_JSON='/path/to/target/python-spreadsheet-xxxx-xxxx.json'\n",
    "\n",
    "#共有設定したスプレッドシートキーを変数[SPREADSHEET_KEY]に格納する。\n",
    "# （例：https://docs.google.com/spreadsheets/d/××××/edit#gid=0） のxxxx\n",
    "SPREADSHEET_KEY = 'xxxxxx_xxx-xxxxxxxxxxxxxxxxxxxxxxxxxxxxxxxxx'\n",
    "\n",
    "def koukyo97():\n",
    "\n",
    "    #2つのAPIを記述しないとリフレッシュトークンを3600秒毎に発行し続けなければならない\n",
    "    scope = ['https://spreadsheets.google.com/feeds','https://www.googleapis.com/auth/drive']\n",
    "\n",
    "    #認証情報設定\n",
    "    #ダウンロードしたjsonファイル名をクレデンシャル変数に設定（秘密鍵、Pythonファイルから読み込みしやすい位置に置く）\n",
    "    credentials = ServiceAccountCredentials.from_json_keyfile_name(CREDENTIAL_JSON, scope)\n",
    "\n",
    "    #OAuth2の資格情報を使用してGoogle APIにログインします。\n",
    "    gc = gspread.authorize(credentials)\n",
    "\n",
    "    #共有設定したスプレッドシートを開く\n",
    "    ws = gc.open_by_key(SPREADSHEET_KEY).worksheet(TARGET_WORKSHEET)\n",
    "\n",
    "    # https://tanuhack.com/library-gspread/#i-8\n",
    "    # APIの使い方\n",
    "\n",
    "    return ws"
   ]
  },
  {
   "cell_type": "markdown",
   "metadata": {},
   "source": [
    "## 5. スプレッドシートの列のアルファベットと数字を相互に変換する関数を用意する\n",
    "\n",
    "このぐらいはGoogle Spreadsheetの標準のAPIで用意してくれていて良いと思うが\n",
    "残念ながらなかったのでググって探して見つけたものを使った。"
   ]
  },
  {
   "cell_type": "code",
   "execution_count": 29,
   "metadata": {},
   "outputs": [],
   "source": [
    "def toNum(alphabet):\n",
    "    \"\"\"\n",
    "    アルファベットから数字を\n",
    "    https://keimina.hatenablog.jp/entry/2018/01/31/213131 から\n",
    "    \"\"\"             \n",
    "    total = 0\n",
    "    for n, i in enumerate(alphabet[::-1]):\n",
    "        chr_num = ord(i.lower())\n",
    "        chr_A_num = ord('a')\n",
    "        total +=  (1 + chr_num - chr_A_num)* (26**n)\n",
    "    return total\n",
    "\n",
    "def toAlpha(num):\n",
    "    \"\"\"\n",
    "    数字からアルファベットを返す関数\n",
    "    https://tanuhack.com/gspread-dataframe/　から\n",
    "    \"\"\"\n",
    "    if num<=26:\n",
    "        return chr(64+num)\n",
    "    elif num%26==0:\n",
    "        return toAlpha(num//26-1)+chr(90)\n",
    "    else:\n",
    "        return toAlpha(num//26)+chr(64+num%26)"
   ]
  },
  {
   "cell_type": "markdown",
   "metadata": {},
   "source": [
    "## 6. いよいよGoogle Spreadsheetにデータを書き込む\n",
    "\n",
    "方法は以下の通り。\n",
    "\n",
    "1. Google Spreadsheetの当該ワークシートを一旦二次元配列に読み込んでからTARGET_LISTに該当する列のデータで抜けているところを探し出す。\n",
    "2. 抜けているデータに該当するデータがdict型のデータにあった場合にその入力する位置の行番号と列番号と入力データの配列を配列データにどんどんストックする。\n",
    "3. 最後まで終わったら配列にストックしたデータをGoogle Spreadsheetに入力する。\n",
    "\n",
    "ちなみに自分の場合は数十年分のデータが既にスプレッドシートに入力済みであるため直近の12ヶ月分の範囲だけを対象としてデータを入力するようにしている。"
   ]
  },
  {
   "cell_type": "code",
   "execution_count": 30,
   "metadata": {},
   "outputs": [
    {
     "name": "stdout",
     "output_type": "stream",
     "text": [
      "(5, D) = 11185\n",
      "(7, B) = 7398\n",
      "(8, E) = 21\n",
      "(9, C) = 277\n",
      "(11, D) = 2424\n",
      "(12, B) = 9257\n"
     ]
    }
   ],
   "source": [
    "TARGET_LIST = ['電気代' ,'電気(KWh)' ,'ガス代' ,'ガス(m*3)', 'IIJ-mio' ,'WOWOW' ,'楽天でんわ']\n",
    "\n",
    "def update_each():\n",
    "    \"\"\"\n",
    "    セル1つずつに対してAPIを呼び出して入力する。\n",
    "    人が手作業で入力しているのと同じ状態に近い。\n",
    "    空白セルにしか操作しないので元の数式やデータが壊れることがない。\n",
    "    \"\"\"\n",
    "\n",
    "    worksheet = koukyo97()\n",
    "\n",
    "    # 日付の入っている行数を求める\n",
    "    col_list = worksheet.col_values(1)  # 1列目(日付)のリスト\n",
    "    for row_count, s in enumerate(col_list):\n",
    "        if s == \"\":\n",
    "            break\n",
    "\n",
    "    # 二次元配列にワークシートの値を全て格納\n",
    "    cell_list = worksheet.get_all_values()\n",
    "\n",
    "    # 元になるデータを辞書形式に読み込む\n",
    "    data_dict = get_data_dict()\n",
    "\n",
    "    for i, row_list in enumerate(cell_list, 1):  # 1から始める\n",
    "        if i == 1:  # 見出し\n",
    "            my_date_index = row_list.index('年月')\n",
    "            header_list = row_list\n",
    "            continue\n",
    "\n",
    "        if i > row_count-12: # 過去1年分のデータ\n",
    "            update_datam = []\n",
    "\n",
    "            year_month = row_list[my_date_index].replace('-','/')\n",
    "\n",
    "            for tgt in TARGET_LIST:\n",
    "                if row_list[header_list.index(tgt)] == \"\":\n",
    "                    if year_month in data_dict.keys():\n",
    "                        if tgt in data_dict[year_month]:\n",
    "                            update_datam.append([i, header_list.index(tgt)+1, data_dict[year_month][tgt]])\n",
    "\n",
    "            for data in update_datam:\n",
    "                print(f'({data[0]}, {toAlpha(data[1])}) = {data[2]}')\n",
    "                #worksheet.update_cell(data[0], data[1], data[2])\n",
    "                \n",
    "update_each()"
   ]
  },
  {
   "cell_type": "markdown",
   "metadata": {},
   "source": [
    "これでちまちまと電気料金の明細やガス料金の明細を見ながらGoogle Spreadsheetにデータを入力する必要がなくなって数カ月分入力をサボってもサクッとデータ入力できるようになった。\n",
    "\n",
    "ちなみにここでは電気とガスだけ紹介したが、水道や携帯電話等もろもろのデータも入手して入力できるようにしているので随分と楽になった。\n",
    "\n",
    "まあ正直なところ家計を振り返るために毎月料金を確認しつつ家計簿をつけるという行為を行うのが良いのだと思うのだが・・・。\n",
    "\n"
   ]
  },
  {
   "cell_type": "code",
   "execution_count": 33,
   "metadata": {},
   "outputs": [
    {
     "data": {
      "image/png": "[encoded data removed]",
      "text/plain": [
       "<PIL.Image.Image image mode=RGBA size=347x288 at 0x7FFEE481C750>"
      ]
     },
     "execution_count": 33,
     "metadata": {},
     "output_type": "execute_result"
    }
   ],
   "source": [
    "from PIL import Image\n",
    "\n",
    "filename = \"googlespreadsheet_sample.png\"\n",
    "\n",
    "im = Image.open(filename)\n",
    "im = im.resize((int(im.width / 2), int(im.height / 2)))\n",
    "im"
   ]
  },
  {
   "cell_type": "code",
   "execution_count": null,
   "metadata": {},
   "outputs": [],
   "source": []
  },
  {
   "cell_type": "code",
   "execution_count": null,
   "metadata": {},
   "outputs": [],
   "source": []
  }
 ],
 "metadata": {
  "kernelspec": {
   "display_name": "Python 3",
   "language": "python",
   "name": "python3"
  },
  "language_info": {
   "codemirror_mode": {
    "name": "ipython",
    "version": 3
   },
   "file_extension": ".py",
   "mimetype": "text/x-python",
   "name": "python",
   "nbconvert_exporter": "python",
   "pygments_lexer": "ipython3",
   "version": "3.7.6"
  }
 },
 "nbformat": 4,
 "nbformat_minor": 4
}
